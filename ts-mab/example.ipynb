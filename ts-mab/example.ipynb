{
 "cells": [
  {
   "cell_type": "code",
   "execution_count": 1,
   "metadata": {},
   "outputs": [],
   "source": [
    "from random import choice\n",
    "\n",
    "import numpy as np\n",
    "import scipy as sp"
   ]
  },
  {
   "cell_type": "code",
   "execution_count": 2,
   "metadata": {},
   "outputs": [],
   "source": [
    "np.set_printoptions(formatter={'float_kind': lambda x: \"{0:0.4f}\".format(x)})"
   ]
  },
  {
   "cell_type": "markdown",
   "metadata": {},
   "source": [
    "### 소재 수 = n\n",
    "### 소재별 (노출 + 클릭 O, 노출 + 클릭 X, 베타 분포 샘플링 점수) = history\n",
    "### history 행: 소재, history 열: [노출 수, 클릭 수, 선택된 x값]"
   ]
  },
  {
   "cell_type": "code",
   "execution_count": 3,
   "metadata": {},
   "outputs": [],
   "source": [
    "class Bandit:\n",
    "    def __init__(self, n: int):\n",
    "        self.history = np.zeros((n, 3), dtype=np.float32)\n",
    "        \n",
    "    def update(self, i: int, impression_count: int, click_count: int):\n",
    "        self.history[i][0] += impression_count\n",
    "        self.history[i][1] += click_count\n",
    "        \n",
    "    def select(self):\n",
    "        for el in range(self.history.shape[0]):\n",
    "            self.history[el][2] = np.random.beta(self.history[el][1] + 1, self.history[el][0] - self.history[el][1] + 1)\n",
    "\n",
    "        return np.argmax(self.history, axis=0)[2]"
   ]
  },
  {
   "cell_type": "code",
   "execution_count": 4,
   "metadata": {},
   "outputs": [],
   "source": [
    "# i번째 소재가 노출되어 클릭될 확률 = prob[i]\n",
    "prob = [0.03, 0.01, 0.02]"
   ]
  },
  {
   "cell_type": "code",
   "execution_count": 5,
   "metadata": {},
   "outputs": [],
   "source": [
    "def update():\n",
    "    idx = bandit.select()\n",
    "    result = np.random.choice([0,1], p=[prob[idx], 1 - prob[idx]])\n",
    "\n",
    "    bandit.update(idx, 1, 1 if result == 0 else 0)"
   ]
  },
  {
   "cell_type": "code",
   "execution_count": 16,
   "metadata": {},
   "outputs": [
    {
     "name": "stdout",
     "output_type": "stream",
     "text": [
      "[[446.0000 12.0000 0.0210]\n",
      " [357.0000 4.0000 0.0050]\n",
      " [197.0000 1.0000 0.0156]]\n",
      "0\n"
     ]
    }
   ],
   "source": [
    "bandit = Bandit(n=len(prob))\n",
    "\n",
    "for el in range(1000):\n",
    "    update()\n",
    "\n",
    "# 전체 히스토리\n",
    "print(bandit.history)\n",
    "\n",
    "# 선택된 광고 소재\n",
    "print(bandit.select())"
   ]
  }
 ],
 "metadata": {
  "kernelspec": {
   "display_name": "Python 3",
   "language": "python",
   "name": "python3"
  },
  "language_info": {
   "codemirror_mode": {
    "name": "ipython",
    "version": 3
   },
   "file_extension": ".py",
   "mimetype": "text/x-python",
   "name": "python",
   "nbconvert_exporter": "python",
   "pygments_lexer": "ipython3",
   "version": "3.8.1"
  }
 },
 "nbformat": 4,
 "nbformat_minor": 2
}
